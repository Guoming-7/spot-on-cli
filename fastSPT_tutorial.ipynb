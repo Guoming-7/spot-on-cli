{
 "cells": [
  {
   "cell_type": "markdown",
   "metadata": {},
   "source": [
    "A short introduction to fast SPT modeling\n",
    "-----------------------------------------\n",
    "\n",
    "This notebook presents a short introduction to the modeling of fast single particle tracking datasets. \n",
    "The methodology, together with examples of biological relevance, can be found at:\n",
    "\n",
    "> Hansen, Anders S., Iryna Pustova, Claudia Cattoglio, Robert Tjian, and Xavier Darzacq. “CTCF and Cohesin Regulate Chromatin Loop Stability with Distinct Dynamics.” bioRxiv, 2016, 093476.\n",
    "\n",
    "This package includes several sample datasets, that will be used by this notebook. Make sure that they can be found by Python."
   ]
  },
  {
   "cell_type": "markdown",
   "metadata": {},
   "source": [
    "## 1. Loading of a dataset\n",
    "\n",
    "To help us with basic and repeated tasks such as dataset loading, we created a small library, `fastSPT_tools` that contain several helper functions that we will use all across this tutorial. We thus need to import it by typing `import fastSPT_tools`.\n",
    "\n",
    "One of the functions list the available datasets: `list_sample_datasets(path)`. Let's first see what datasets we can get. Then, we will use the `load_dataset(path, dataset_id, cells)` function to load the relevant dataset. This latter function can either load one single cell or a series of cells (identified by their id)."
   ]
  },
  {
   "cell_type": "code",
   "execution_count": 16,
   "metadata": {
    "collapsed": false
   },
   "outputs": [
    {
     "name": "stdout",
     "output_type": "stream",
     "text": [
      "Found 2 datasets\n",
      "\n",
      "-- Dataset 0: SampleName (path /Users/AndersSejrHansen/Dropbox/MatLab/Lab/Microscopy/SingleParticleTracking/Analysis/FastTrackingData/20160216_C87_Halo-mCTCF_5nM_PA-JF549_FastTracking/)\n",
      "Description: 20160216_C87_Halo-mCTCF_5nM_PA-JF549_FastTracking: 5 ms camera, 1 ms 561 nm, 6.75 ms per frame.\n",
      "\n",
      "  Cell 0: NOT FOUND 20160216_5ms_PA-JF549_Pulse1_L100_Constant405-1.mat\n",
      "  Cell 1: NOT FOUND 20160216_5ms_PA-JF549_Pulse1_L100_Constant405-2.mat\n",
      "\n",
      "-- Dataset 1: 20160526 mESC C87 Halo-mCTCF 25 nM PA-JF646 (path ./20160526_mESC_C87_Halo-mCTCF_25nM_PA-JF646/)\n",
      "Description: 20160526_mESC_C87_Halo-mCTCF_25nM_PA-JF646\n",
      "\n",
      "  Cell 0: FOUND 20160526_mESC_C87_Halo-mCTCF_25nM_PA-JF646_1ms633_3-405_4msCam_cell1.rpt_tracked_TrackedParticles.mat\n",
      "  Cell 1: FOUND 20160526_mESC_C87_Halo-mCTCF_25nM_PA-JF646_1ms633_3-405_4msCam_cell2.rpt_tracked_TrackedParticles.mat\n",
      "  Cell 2: FOUND 20160526_mESC_C87_Halo-mCTCF_25nM_PA-JF646_1ms633_3-405_4msCam_cell3.rpt_tracked_TrackedParticles.mat\n",
      "  Cell 3: FOUND 20160526_mESC_C87_Halo-mCTCF_25nM_PA-JF646_1ms633_3-405_4msCam_cell4.rpt_tracked_TrackedParticles.mat\n",
      "  Cell 4: FOUND 20160526_mESC_C87_Halo-mCTCF_25nM_PA-JF646_1ms633_3-405_4msCam_cell5.rpt_tracked_TrackedParticles.mat\n",
      "  Cell 5: FOUND 20160526_mESC_C87_Halo-mCTCF_25nM_PA-JF646_1ms633_3-405_4msCam_cell6.rpt_tracked_TrackedParticles.mat\n",
      "  Cell 6: FOUND 20160526_mESC_C87_Halo-mCTCF_25nM_PA-JF646_1ms633_3-405_4msCam_cell7.rpt_tracked_TrackedParticles.mat\n",
      "  Cell 7: FOUND 20160526_mESC_C87_Halo-mCTCF_25nM_PA-JF646_1ms633_3-405_4msCam_cell8.rpt_tracked_TrackedParticles.mat\n",
      "\n"
     ]
    }
   ],
   "source": [
    "import fastSPT, fastSPT_tools\n",
    "reload(fastSPT)\n",
    "reload(fastSPT_tools)\n",
    "\n",
    "print fastSPT_tools.list_sample_datasets(path=\"./datasets/\")"
   ]
  },
  {
   "cell_type": "code",
   "execution_count": 10,
   "metadata": {
    "collapsed": false
   },
   "outputs": [],
   "source": [
    "cell0   = fastSPT_tools.load_dataset(\"./datasets/\", 1, 0) ## Load a single cell of dataset 1\n",
    "cellall = fastSPT_tools.load_dataset(\"./datasets/\", 1, [0,1,2,3,4,5,6,7]) ## Load all the cells of dataset 1"
   ]
  },
  {
   "cell_type": "markdown",
   "metadata": {},
   "source": [
    "## 2. Computation of the jump lengths distribution"
   ]
  },
  {
   "cell_type": "code",
   "execution_count": 48,
   "metadata": {
    "collapsed": false
   },
   "outputs": [
    {
     "name": "stdout",
     "output_type": "stream",
     "text": [
      "Number of frames: 20000.0, number of localizations: 9383\n",
      "Computation of jump lengths performed in 1.9s\n"
     ]
    }
   ],
   "source": [
    "reload(fastSPT)\n",
    "h1 = fastSPT.compute_jump_length_distribution(cell0, CDF=True, useAllTraj=True)\n",
    "\n",
    "print \"Computation of jump lengths performed in {:.2}s\".format(h1[-1]['time'])\n",
    "## TODO MW: try with useAllTraj = True"
   ]
  },
  {
   "cell_type": "markdown",
   "metadata": {},
   "source": [
    "## 3. Fitting of the jump lengths distribution to the model"
   ]
  }
 ],
 "metadata": {
  "kernelspec": {
   "display_name": "Python 2",
   "language": "python",
   "name": "python2"
  },
  "language_info": {
   "codemirror_mode": {
    "name": "ipython",
    "version": 2
   },
   "file_extension": ".py",
   "mimetype": "text/x-python",
   "name": "python",
   "nbconvert_exporter": "python",
   "pygments_lexer": "ipython2",
   "version": "2.7.9"
  }
 },
 "nbformat": 4,
 "nbformat_minor": 1
}
